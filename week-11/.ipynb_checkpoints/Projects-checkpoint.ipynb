{
 "cells": [
  {
   "cell_type": "code",
   "execution_count": 1,
   "id": "79cfbcd6",
   "metadata": {},
   "outputs": [
    {
     "name": "stdout",
     "output_type": "stream",
     "text": [
      "Welcome to Muna's Orange Delivery Services.\n",
      "Enter the number of oranges you want to buy: 50\n",
      "The cost of each orange is #100\n",
      "The total amount is: # 25000\n",
      "Thank you for the patronage.\n"
     ]
    }
   ],
   "source": [
    "#A python OOP application that allows customers to buy oranges online.  \n",
    "#The application must allow a user to enter the number of oranges to buy.\n",
    "#If the number requested is more than the stock quantity, inform the user \n",
    "#to select quantity less than previously specified.  \n",
    "#At the end print out the cost of items.  \n",
    "#Thank the customer for his/her patronage\n",
    "#Project I\n",
    "\n",
    "\n",
    "class oranges():  \n",
    "    def calculate_cost(self):\n",
    "        print('The cost of each orange is #100')\n",
    "        print('The total amount is: #',total_amount)\n",
    "        print('Thank you for the patronage.')\n",
    "\n",
    "print(\"Welcome to Muna's Orange Delivery Services.\")\n",
    "        \n",
    "purchase = oranges()\n",
    "\n",
    "number= int(input('Enter the number of oranges you want to buy: '))\n",
    "total_amount = number*500\n",
    "if number >=500:\n",
    "    print('This amount is more than the amount of oranges I have in stock')\n",
    "elif number <500:\n",
    "    purchase.calculate_cost()\n",
    "else:\n",
    "    print('Please repeat the process correctly')"
   ]
  },
  {
   "cell_type": "code",
   "execution_count": 8,
   "id": "fa1d0a1b",
   "metadata": {},
   "outputs": [
    {
     "name": "stdout",
     "output_type": "stream",
     "text": [
      "What formula equation do you want to use \"Parallelogram, Trapezium, Cube, Cylinder, Rhombus\"?Parallelogram\n",
      "Enter base: 20\n",
      "Enter altitude: 5\n",
      "The area of the parallelogram is: 100\n"
     ]
    }
   ],
   "source": [
    "#Project II\n",
    "class formulas():\n",
    "    def trapezium(self, height, base1, base2):\n",
    "        self.height = height\n",
    "        self.base1 = base1\n",
    "        self.base2 = base2\n",
    "        print(f'The area of the trapezium is: {(self.height * (self.base1 + self.base2)) / 2}')\n",
    "\n",
    "    def rhombus(self, diagonal1, diagonal2):\n",
    "        self.diagonal1 = diagonal1\n",
    "        self.diagonal2 = diagonal2\n",
    "        print(f'The area of the rhombus is: {(self.diagonal1 * self.diagonal2) / 2}')\n",
    "\n",
    "    def parallelogram(self, base, altitude):\n",
    "        self.base = base\n",
    "        self.altitude = altitude\n",
    "        print(f'The area of the parallelogram is: {self.base * self.altitude}')\n",
    "\n",
    "    def cube(self, length):\n",
    "        self.length = length\n",
    "        print(f'The volume of the cube is: {6 * (self.length ** 2)}')\n",
    "\n",
    "    def cylinder(self, radius, height):\n",
    "        self.radius = radius\n",
    "        self.height = height\n",
    "        print(f'The volume of the cylinder is: {3.142 * (self.radius ** 2) * self.height}')\n",
    "        \n",
    "equation = input('What formula equation do you want to use \"Parallelogram, Trapezium, Cube, Cylinder, Rhombus\"? ')\n",
    "                 \n",
    "m = formulas()\n",
    "\n",
    "if equation == 'Trapezium':\n",
    "    height = int(input('Enter height: '))\n",
    "    base1 = int(input('Enter base1: '))\n",
    "    base2 = int(input('Enter base2: '))\n",
    "    m.trapezium(height, base1, base2)\n",
    "\n",
    "elif equation == 'Rhombus':\n",
    "    diagonal1 = int(input('Enter diagonal1: '))\n",
    "    diagonal2 = int(input('Enter diagonal2: '))\n",
    "    m.rhombus(diagonal1, diagonal2)\n",
    "\n",
    "elif equation == 'Parallelogram':\n",
    "    base = int(input('Enter base: '))\n",
    "    altitude = int(input('Enter altitude: '))\n",
    "    m.parallelogram(base, altitude)\n",
    "\n",
    "elif equation == 'Cube':\n",
    "    length = int(input('Enter length: '))\n",
    "    m.cube(length)\n",
    "\n",
    "elif equation == 'Cylinder':\n",
    "    radius = int(input('Enter radius: '))\n",
    "    height = int(input('Enter height: '))\n",
    "    m.cylinder(radius, height)\n",
    "\n",
    "else:\n",
    "    print(\"Invalid input, kindly enter a valid parameter or check the spellings\")"
   ]
  },
  {
   "cell_type": "code",
   "execution_count": 11,
   "id": "0f2f1c84",
   "metadata": {},
   "outputs": [
    {
     "name": "stdout",
     "output_type": "stream",
     "text": [
      "CSV file created\n"
     ]
    }
   ],
   "source": [
    "#Project III\n",
    "# A python OOP program , using methods to create a csv file that saves the high-quality \n",
    "# categories of drinks, as indicated in the table.\n",
    "\n",
    "import pandas as pd\n",
    "\n",
    "class Breweries():\n",
    "    def table(self, info):\n",
    "        df = pd.DataFrame(info)\n",
    "        df.to_csv('info.csv')\n",
    "        print('CSV file created')\n",
    "    \n",
    "info = {'Lager':['33 Export', 'Desperados', 'Goldberg', 'Guilder', 'Heineken', 'Star'],\n",
    "        'Stout': ['Legend','Turbo King', 'Williams', '', '', ''], \n",
    "        'Non-Alcoholic':['Maltina', 'Amstel Malta', 'Malta Gold', 'Fayrouz', '', '']}\n",
    "                           \n",
    "m = Breweries()\n",
    "m.table(info)"
   ]
  }
 ],
 "metadata": {
  "kernelspec": {
   "display_name": "Python 3 (ipykernel)",
   "language": "python",
   "name": "python3"
  },
  "language_info": {
   "codemirror_mode": {
    "name": "ipython",
    "version": 3
   },
   "file_extension": ".py",
   "mimetype": "text/x-python",
   "name": "python",
   "nbconvert_exporter": "python",
   "pygments_lexer": "ipython3",
   "version": "3.10.9"
  }
 },
 "nbformat": 4,
 "nbformat_minor": 5
}
