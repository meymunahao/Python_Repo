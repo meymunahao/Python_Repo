{
 "cells": [
  {
   "cell_type": "code",
   "execution_count": 4,
   "id": "79cfbcd6",
   "metadata": {},
   "outputs": [
    {
     "name": "stdout",
     "output_type": "stream",
     "text": [
      "Welcome to Muna's Orange Delivery Services.\n",
      "Enter the number of oranges you want to buy: 50\n",
      "The cost of each orange is #100\n",
      "Thank you for the patronage.\n",
      "The total amount is: # 25000\n"
     ]
    }
   ],
   "source": [
    "#A python OOP application that allows customers to buy oranges online.  \n",
    "#The application must allow a user to enter the number of oranges to buy.\n",
    "#If the number requested is more than the stock quantity, inform the user \n",
    "#to select quantity less than previously specified.  \n",
    "#At the end print out the cost of items.  \n",
    "#Thank the customer for his/her patronage\n",
    "#Project I\n",
    "\n",
    "\n",
    "class oranges():  \n",
    "    def calculate_cost(self):\n",
    "        print('The cost of each orange is #100')\n",
    "        print('Thank you for the patronage.\\nThe total amount is: #',total_amount)\n",
    "        \n",
    "purchase = oranges()\n",
    "print(\"Welcome to Muna's Orange Delivery Services.\")\n",
    "number= int(input('Enter the number of oranges you want to buy: '))\n",
    "total_amount = number*500\n",
    "if number >=500:\n",
    "    print('This amount is more than the amount of oranges I have in stock')\n",
    "elif number <500:\n",
    "    purchase.calculate_cost()\n",
    "else:\n",
    "    print('Please repeat the process correctly')"
   ]
  },
  {
   "cell_type": "code",
   "execution_count": 7,
   "id": "fa1d0a1b",
   "metadata": {},
   "outputs": [
    {
     "ename": "NameError",
     "evalue": "name 'height' is not defined",
     "output_type": "error",
     "traceback": [
      "\u001b[1;31m---------------------------------------------------------------------------\u001b[0m",
      "\u001b[1;31mNameError\u001b[0m                                 Traceback (most recent call last)",
      "Cell \u001b[1;32mIn[7], line 2\u001b[0m\n\u001b[0;32m      1\u001b[0m \u001b[38;5;66;03m#Project II\u001b[39;00m\n\u001b[1;32m----> 2\u001b[0m \u001b[38;5;28;01mclass\u001b[39;00m \u001b[38;5;21;01mformulas\u001b[39;00m():\n\u001b[0;32m      3\u001b[0m     \u001b[38;5;28;01mdef\u001b[39;00m \u001b[38;5;21mtrapezium\u001b[39m(\u001b[38;5;28mself\u001b[39m,height,base1, base2):\n\u001b[0;32m      4\u001b[0m         \u001b[38;5;28mself\u001b[39m\u001b[38;5;241m.\u001b[39mheight\u001b[38;5;241m=\u001b[39m height\n",
      "Cell \u001b[1;32mIn[7], line 7\u001b[0m, in \u001b[0;36mformulas\u001b[1;34m()\u001b[0m\n\u001b[0;32m      5\u001b[0m     \u001b[38;5;28mself\u001b[39m\u001b[38;5;241m.\u001b[39mbase1\u001b[38;5;241m=\u001b[39m base1\n\u001b[0;32m      6\u001b[0m     \u001b[38;5;28mself\u001b[39m\u001b[38;5;241m.\u001b[39mbase2\u001b[38;5;241m=\u001b[39m base2\n\u001b[1;32m----> 7\u001b[0m \u001b[38;5;28mprint\u001b[39m(\u001b[38;5;124mf\u001b[39m\u001b[38;5;124m'\u001b[39m\u001b[38;5;124mThe area of the trapezium is: \u001b[39m\u001b[38;5;132;01m{\u001b[39;00m[height]\u001b[38;5;241m/\u001b[39m\u001b[38;5;241m2\u001b[39m\u001b[38;5;241m*\u001b[39m[base1\u001b[38;5;241m+\u001b[39mbase2]\u001b[38;5;132;01m}\u001b[39;00m\u001b[38;5;124m'\u001b[39m)\n\u001b[0;32m      9\u001b[0m \u001b[38;5;28;01mdef\u001b[39;00m \u001b[38;5;21mrhombus\u001b[39m(\u001b[38;5;28mself\u001b[39m,diagonal1, diagonal2):\n\u001b[0;32m     10\u001b[0m     \u001b[38;5;28mself\u001b[39m\u001b[38;5;241m.\u001b[39mdiagonal1\u001b[38;5;241m=\u001b[39m diagonal1\n",
      "\u001b[1;31mNameError\u001b[0m: name 'height' is not defined"
     ]
    }
   ],
   "source": [
    "#Project II\n",
    "class formulas():\n",
    "    def trapezium(self,height,base1, base2):\n",
    "        self.height= height\n",
    "        self.base1= base1\n",
    "        self.base2= base2\n",
    "    print(f'The area of the trapezium is: {[height]/2*[base1+base2]}')\n",
    "    \n",
    "    def rhombus(self,diagonal1, diagonal2):\n",
    "        self.diagonal1= diagonal1\n",
    "        self.diagonal2= diagonal2\n",
    "    print(f'The area of the rhombus is: {[1/2]*diagonal1*diagonal2}')\n",
    "    \n",
    "    def paralellogram(self, base, altitude):\n",
    "        self.base= base\n",
    "        self.altitude= altitude\n",
    "    print(f'The area o the paralellogram is :{base*altitude}')\n",
    "    \n",
    "    def cube(self, length):\n",
    "        self.length= length\n",
    "    print(f'The volume of the cube is: {6*length^2}')\n",
    "    \n",
    "    def cylinder(self, radius, height):\n",
    "        self.radius= radius\n",
    "        self.height= height\n",
    "    print(f'The volume of the cylinder is: {3.142*radius^2*height}')\n",
    "    \n",
    "equation= input('What formula equation do you want to use? [trapezium, rhombus, parallelogram, cube, cylinder]')\n",
    "\n",
    "if equation == trapezium:\n",
    "    height= int(input('Enter height: '))\n",
    "    base1= int(input('Enter base1: '))\n",
    "    base2= int(input('Enter base2: '))\n",
    "    m.trapezium(height, base1, base2)\n",
    "\n",
    "elif equation == rhombus:\n",
    "    diagonal1= int(input('Enter diagonal1: '))\n",
    "    diagonal2= int(input('Enter diagonal2: '))\n",
    "    m.rhombus(diagonal1, diagonal2)\n",
    "\n",
    "elif equation == parallelogram:\n",
    "    base= int(input('Enter base: '))\n",
    "    altitude= int(input('Enter altitude: '))\n",
    "    m.parallelogram(base, altitude)\n",
    "    \n",
    "elif equation == cube:\n",
    "    altitude= int(input('Enter altitude: '))\n",
    "    m.cube(length)\n",
    "\n",
    "elif equation == cylinder:\n",
    "    radius= int(input('Enter radius: '))\n",
    "    height= int(input('Enter height: '))\n",
    "    m.cylinder(radius, height)\n",
    "    \n",
    "else:\n",
    "    print(\"Invalid input, kindly enter a valid parameter, or check the spellings\")\n",
    "\n",
    "m= formulas()"
   ]
  },
  {
   "cell_type": "code",
   "execution_count": 6,
   "id": "0f2f1c84",
   "metadata": {},
   "outputs": [],
   "source": [
    "#Project III\n",
    "# A python OOP program , using methods to create a csv file that saves the high-quality \n",
    "# categories of drinks, as indicated in the table.\n",
    "\n",
    "import pandas as pd\n",
    "\n",
    "class Breweries():\n",
    "    def table(self, info):\n",
    "        df = pd.DataFrame(info)\n",
    "        df.to_csv('info.csv')\n",
    "    \n",
    "info = {'Lager':['33 Export', 'Desperados', 'Goldberg', 'Guilder', 'Heineken', 'Star'],\n",
    "        'Stout': ['Legend','Turbo King', 'Williams', '', '', ''], \n",
    "        'Non-Alcoholic':['Maltina', 'Amstel Malta', 'Malta Gold', 'Fayrouz', '', '']}\n",
    "                           \n",
    "m = Breweries()\n",
    "m.table(info)"
   ]
  },
  {
   "cell_type": "code",
   "execution_count": null,
   "id": "89b31755",
   "metadata": {},
   "outputs": [],
   "source": []
  }
 ],
 "metadata": {
  "kernelspec": {
   "display_name": "Python 3 (ipykernel)",
   "language": "python",
   "name": "python3"
  },
  "language_info": {
   "codemirror_mode": {
    "name": "ipython",
    "version": 3
   },
   "file_extension": ".py",
   "mimetype": "text/x-python",
   "name": "python",
   "nbconvert_exporter": "python",
   "pygments_lexer": "ipython3",
   "version": "3.10.9"
  }
 },
 "nbformat": 4,
 "nbformat_minor": 5
}
