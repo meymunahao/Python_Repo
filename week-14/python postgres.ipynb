{
 "cells": [
  {
   "cell_type": "markdown",
   "metadata": {},
   "source": [
    "# CONNECTING PYTHON WITH POSTGRES DATABASE "
   ]
  },
  {
   "cell_type": "markdown",
   "metadata": {},
   "source": [
    "### 1. CREATE A DATABSE student_profile"
   ]
  },
  {
   "cell_type": "code",
   "execution_count": 21,
   "metadata": {},
   "outputs": [
    {
     "ename": "DuplicateDatabase",
     "evalue": "database \"student_profile\" already exists\n",
     "output_type": "error",
     "traceback": [
      "\u001b[1;31m---------------------------------------------------------------------------\u001b[0m",
      "\u001b[1;31mDuplicateDatabase\u001b[0m                         Traceback (most recent call last)",
      "Cell \u001b[1;32mIn[21], line 15\u001b[0m\n\u001b[0;32m     13\u001b[0m conn\u001b[38;5;241m.\u001b[39mautocommit \u001b[38;5;241m=\u001b[39m \u001b[38;5;28;01mTrue\u001b[39;00m\n\u001b[0;32m     14\u001b[0m cursor \u001b[38;5;241m=\u001b[39m conn\u001b[38;5;241m.\u001b[39mcursor()\n\u001b[1;32m---> 15\u001b[0m \u001b[43mcursor\u001b[49m\u001b[38;5;241;43m.\u001b[39;49m\u001b[43mexecute\u001b[49m\u001b[43m(\u001b[49m\u001b[38;5;124;43mf\u001b[39;49m\u001b[38;5;124;43m\"\u001b[39;49m\u001b[38;5;124;43mCREATE DATABASE \u001b[39;49m\u001b[38;5;132;43;01m{\u001b[39;49;00m\u001b[43mnew_db_name\u001b[49m\u001b[38;5;132;43;01m}\u001b[39;49;00m\u001b[38;5;124;43m;\u001b[39;49m\u001b[38;5;124;43m\"\u001b[39;49m\u001b[43m)\u001b[49m\n\u001b[0;32m     17\u001b[0m cursor\u001b[38;5;241m.\u001b[39mclose()\n\u001b[0;32m     20\u001b[0m \u001b[38;5;66;03m# Close the connection\u001b[39;00m\n",
      "\u001b[1;31mDuplicateDatabase\u001b[0m: database \"student_profile\" already exists\n"
     ]
    }
   ],
   "source": [
    "import psycopg2\n",
    "\n",
    "# Establish a connection to the PostgreSQL server\n",
    "conn = psycopg2.connect(\n",
    "    host=\"localhost\",\n",
    "    port=\"5432\",\n",
    "    user=\"postgres\",\n",
    "    password=\"1805\"\n",
    ")\n",
    "\n",
    "# Create a new database\n",
    "new_db_name = \"student_profile\"\n",
    "conn.autocommit = True\n",
    "cursor = conn.cursor()\n",
    "cursor.execute(f\"CREATE DATABASE {new_db_name};\")\n",
    "\n",
    "cursor.close()\n",
    "\n",
    "\n",
    "# Close the connection\n",
    "conn.close()"
   ]
  },
  {
   "cell_type": "markdown",
   "metadata": {},
   "source": [
    "### 2. CREATE A TABLE student_info"
   ]
  },
  {
   "cell_type": "code",
   "execution_count": null,
   "metadata": {},
   "outputs": [],
   "source": [
    "# Establish a connection to the PostgreSQL server\n",
    "conn = psycopg2.connect(\n",
    "    host=\"localhost\",\n",
    "    port=\"5432\",\n",
    "    database=\"student_profile\",\n",
    "    user=\"postgres\",\n",
    "    password=\"1805\"\n",
    ")\n",
    "# Create a cursor object\n",
    "cursor = conn.cursor()\n",
    "\n",
    "# Define the CREATE TABLE statement\n",
    "create_table_query = '''\n",
    "    CREATE TABLE student_info (\n",
    "        name varchar,\n",
    "        email varchar,\n",
    "        mat_no varchar  )\n",
    "'''\n",
    "\n",
    "# Execute the CREATE TABLE statement\n",
    "cursor.execute(create_table_query)\n",
    "\n",
    "\n",
    "# Commit the changes\n",
    "conn.commit()\n",
    "\n",
    "# Close the cursor and connection\n",
    "cursor.close()\n",
    "conn.close()"
   ]
  },
  {
   "cell_type": "markdown",
   "metadata": {},
   "source": [
    "### 3. INSERT INTO TABLE student_info"
   ]
  },
  {
   "cell_type": "code",
   "execution_count": null,
   "metadata": {},
   "outputs": [],
   "source": [
    "import psycopg2\n",
    "\n",
    "# Establish a connection to the PostgreSQL server\n",
    "conn = psycopg2.connect(\n",
    "    host=\"localhost\",\n",
    "    port=\"5432\",\n",
    "    database=\"student_profile\",\n",
    "    user=\"postgres\",\n",
    "    password=\"1805\"\n",
    ")\n",
    "\n",
    "# Create a cursor object\n",
    "cursor = conn.cursor()\n",
    "\n",
    "# Define the INSERT statement\n",
    "insert_query = '''\n",
    "    INSERT INTO student_info (name, email, mat_no)\n",
    "    VALUES (%s, %s, %s)\n",
    "'''\n",
    "\n",
    "# Define the values to be inserted\n",
    "values = ('Ade Jones', 'ajones@pau.edu.ng', '121234222')\n",
    "\n",
    "# Execute the INSERT statement\n",
    "cursor.execute(insert_query, values)\n",
    "\n",
    "# Commit the changes\n",
    "conn.commit()\n",
    "\n",
    "# Close the cursor and connection\n",
    "cursor.close()\n",
    "conn.close()"
   ]
  },
  {
   "cell_type": "markdown",
   "metadata": {},
   "source": [
    "### 4. SELECT ALL FROM student_info"
   ]
  },
  {
   "cell_type": "code",
   "execution_count": null,
   "metadata": {},
   "outputs": [],
   "source": [
    "import psycopg2\n",
    "\n",
    "# Establish a connection to the PostgreSQL server\n",
    "conn = psycopg2.connect(\n",
    "    host=\"localhost\",\n",
    "    port=\"5432\",\n",
    "    database=\"student_profile\",\n",
    "    user=\"postgres\",\n",
    "    password=\"1805\"\n",
    ")\n",
    "\n",
    "# Create a cursor object\n",
    "cursor = conn.cursor()\n",
    "\n",
    "# Define the SELECT statement\n",
    "select_query = \"SELECT * FROM student_info;\"\n",
    "\n",
    "# Execute the SELECT statement\n",
    "cursor.execute(select_query)\n",
    "\n",
    "# Fetch all the rows from the result set\n",
    "rows = cursor.fetchall()\n",
    "\n",
    "# Process the fetched rows\n",
    "for row in rows:\n",
    "    # Access individual columns using index or column names\n",
    "    column1_value = row[0]\n",
    "    column2_value = row[1]\n",
    "    column3_value = row[2]\n",
    "    \n",
    "    print(f\"{column1_value} | {column2_value} | {column3_value}\")\n",
    "\n",
    "# Close the cursor and connection\n",
    "cursor.close()\n",
    "conn.close()\n"
   ]
  },
  {
   "cell_type": "markdown",
   "metadata": {},
   "source": [
    "### 5. DELETE FROM student_info"
   ]
  },
  {
   "cell_type": "code",
   "execution_count": null,
   "metadata": {},
   "outputs": [],
   "source": [
    "import psycopg2\n",
    "\n",
    "# Establish a connection to the PostgreSQL server\n",
    "conn = psycopg2.connect(\n",
    "    host=\"localhost\",\n",
    "    port=\"5432\",\n",
    "    database=\"student_profile\",\n",
    "    user=\"postgres\",\n",
    "    password=\"1805\"\n",
    ")\n",
    "\n",
    "# Create a cursor object\n",
    "cursor = conn.cursor()\n",
    "\n",
    "# Define the DELETE statement\n",
    "delete_query = \"DELETE FROM student_info;\"\n",
    "\n",
    "# Execute the DELETE statement\n",
    "cursor.execute(delete_query)\n",
    "\n",
    "# Commit the changes\n",
    "conn.commit()\n",
    "\n",
    "# Close the cursor and connection\n",
    "cursor.close()\n",
    "conn.close()\n"
   ]
  },
  {
   "cell_type": "markdown",
   "metadata": {},
   "source": [
    "# CLASS PROJECT I\n",
    "\n",
    "\n"
   ]
  },
  {
   "cell_type": "markdown",
   "metadata": {},
   "source": [
    "<ul>\n",
    "    <li>Create a database called <b><i>mtn_nigeria</i></b></li>\n",
    "<li>Create a table called <b><i>customer_info</i></b></li>\n",
    "<li>Insert the following customer information into the database</li>\n",
    "</ul>\n"
   ]
  },
  {
   "cell_type": "code",
   "execution_count": null,
   "metadata": {},
   "outputs": [],
   "source": [
    "import psycopg2\n",
    "\n",
    "# Establish a connection to the PostgreSQL server\n",
    "conn = psycopg2.connect(\n",
    "    host=\"localhost\",\n",
    "    port=\"5432\",\n",
    "    user=\"postgres\",\n",
    "    password=\"1805\"\n",
    ")\n",
    "\n",
    "# Create a new database\n",
    "new_db_name = \"mtn_nigeria\"\n",
    "conn.autocommit = True\n",
    "cursor = conn.cursor()\n",
    "cursor.execute(f\"CREATE DATABASE {new_db_name};\")\n",
    "\n",
    "cursor.close()\n",
    "\n",
    "\n",
    "# Close the connection\n",
    "conn.close()"
   ]
  },
  {
   "cell_type": "code",
   "execution_count": null,
   "metadata": {},
   "outputs": [],
   "source": [
    "import pandas as pd\n",
    "\n",
    "customer_info = {\"Name\": [\"Favor Okpara-Ngbo\", \"Joshua Asekhauno\", \"Collins Odoh-Ifeanyi\", \"Chibundum Umeh\", \"Clinto Okpara\"], \n",
    "  \"Email\": [\"fokpara-ngbo@mtn.com\", \"jasekhauno@mtn.com\", \"codoh-ifeanyi@mtn.com\", \"cumeh@mtn.com\", \"cokpara@mtn.com\"], \n",
    "  \"State of Residence\": [\"Lagos\", \"Portharcourt\", \"Abuja\", \"Owerri\", \"Kaduna\"],\n",
    "   \"Mobile\": [\"08038212938\", \"080374930210\", \"08067392029\",\"0803493712348\", \"08068381138\"]}\n",
    "info = pd.DataFrame(customer_info)\n",
    "info"
   ]
  },
  {
   "cell_type": "code",
   "execution_count": null,
   "metadata": {},
   "outputs": [],
   "source": [
    "import psycopg2\n",
    "conn = psycopg2.connect(\n",
    "    host=\"localhost\",\n",
    "    port=\"5432\",\n",
    "    database=\"mtn_nigeria\",\n",
    "    user=\"postgres\",\n",
    "    password=\"1805\"\n",
    ")\n",
    "# Create a cursor object\n",
    "cursor = conn.cursor()\n",
    "delete_query = \"DROP TABLE customer_info;\"\n",
    "cursor.execute(delete_query)\n",
    "create_table_query = '''\n",
    "    CREATE TABLE customer_info (\n",
    "        Name varchar,\n",
    "        Email varchar,\n",
    "        State varchar,\n",
    "        Mobile varchar)\n",
    "'''\n",
    "\n",
    "cursor.execute(create_table_query)\n",
    "customer_info = {\"Name\": [\"Favor Okpara-Ngbo\", \"Joshua Asekhauno\", \"Collins Odoh-Ifeanyi\", \"Chibundum Umeh\", \"Clinto Okpara\"],\n",
    "\"Email\": [\"fokpara-ngbo@mtn.com\", \"jasekhauno@mtn.com\", \"codoh-ifeanyi@mtn.com\", \"cumeh@mtn.com\", \"cokpara@mtn.com\"],\n",
    "\"State\": [\"Lagos\", \"Portharcourt\", \"Abuja\", \"Owerri\", \"Kaduna\"],\n",
    "\"Mobile\": [\"08038212938\", \"080374930210\", \"08067392029\",\"0803493712348\", \"08068381138\"]}\n",
    "insert_query = '''\n",
    "INSERT INTO customer_info (Name, Email, State, Mobile)\n",
    "    VALUES (%s, %s, %s, %s)\n",
    "'''\n",
    "for i in range(5):\n",
    "    values = (customer_info['Name'][i],customer_info['Email'][i],customer_info['State'][i],customer_info['Mobile'][i])\n",
    "    cursor.execute(insert_query, values)\n",
    "# Commit the changes\n",
    "conn.commit()\n",
    "\n",
    "# Close the cursor and connection\n",
    "cursor.close()\n",
    "conn.close()"
   ]
  },
  {
   "cell_type": "code",
   "execution_count": null,
   "metadata": {},
   "outputs": [],
   "source": []
  },
  {
   "cell_type": "markdown",
   "metadata": {},
   "source": [
    "# Class Project II"
   ]
  },
  {
   "cell_type": "markdown",
   "metadata": {},
   "source": [
    "<ul>\n",
    "    <li>Create a database called <b><i>comp_sci_dpt</i></b></li>\n",
    "<li>Create a table called <b><i>csc102_class_list</i></b></li>\n",
    "<li>Download the class list .csv file from e-learning</li>\n",
    "<li>Insert the the class list into the database</li>\n",
    "<li>Dump the database and class list table</li>\n",
    "<li>Commit the python code and dumped database to your GitHub (Week 14)</li>\n",
    "</ul>\n"
   ]
  },
  {
   "cell_type": "code",
   "execution_count": null,
   "metadata": {},
   "outputs": [],
   "source": [
    "import psycopg2\n",
    "\n",
    "# Establish a connection to the PostgreSQL server\n",
    "conn = psycopg2.connect(\n",
    "    host=\"localhost\",\n",
    "    port=\"5432\",\n",
    "    user=\"postgres\",\n",
    "    password=\"1805\"\n",
    ")\n",
    "\n",
    "# Create a new database\n",
    "new_db_name = \"comp_sci_dpt\"\n",
    "conn.autocommit = True\n",
    "cursor = conn.cursor()\n",
    "cursor.execute(f\"CREATE DATABASE {new_db_name};\")\n",
    "\n",
    "cursor.close()\n",
    "\n",
    "\n",
    "# Close the connection\n",
    "conn.close()"
   ]
  },
  {
   "cell_type": "code",
   "execution_count": null,
   "metadata": {},
   "outputs": [],
   "source": [
    "import psycopg2\n",
    "import pandas as pd\n",
    "\n",
    "\n",
    "conn = psycopg2.connect(\n",
    "    host=\"localhost\",\n",
    "    port=\"5432\",\n",
    "    database=\"comp_sci_dpt\",\n",
    "    user=\"postgres\",\n",
    "    password=\"1805\"\n",
    ")\n",
    "# Create a cursor object\n",
    "cursor = conn.cursor()\n",
    "\n",
    "# Define the CREATE TABLE statement\n",
    "#create_table_query = csc102_class_list '''\n",
    "    #CREATE TABLE csc102_class(\n",
    "        #First_Name varchar,\n",
    "        #Middle_Name varchar,\n",
    "        #Surname varchar  )\n",
    "insert_query = '''\n",
    "INSERT INTO csc102_class_list(First_Name, Middle_Name, Surname)\n",
    "    VALUES (%s, %s, %s)\n",
    "'''\n",
    "#cursor.execute(create_table_query)\n",
    "df = pd.read_csv('csc102_class_list_II.csv')\n",
    "dictionary = df.to_dict(orient = 'list')\n",
    "print(dictionary)\n",
    "\n",
    "for i in range(5):\n",
    "    values = (dictionary['FIRST NAME'][i],dictionary['MIDDLE NAME'][i],dictionary['SURNAME'][i])\n",
    "    cursor.execute(insert_query, values)\n",
    "# Commit the changes\n",
    "conn.commit()\n",
    "\n",
    "# Close the cursor and connection\n",
    "cursor.close()\n",
    "conn.close()"
   ]
  },
  {
   "cell_type": "code",
   "execution_count": null,
   "metadata": {},
   "outputs": [],
   "source": []
  }
 ],
 "metadata": {
  "kernelspec": {
   "display_name": "Python 3 (ipykernel)",
   "language": "python",
   "name": "python3"
  },
  "language_info": {
   "codemirror_mode": {
    "name": "ipython",
    "version": 3
   },
   "file_extension": ".py",
   "mimetype": "text/x-python",
   "name": "python",
   "nbconvert_exporter": "python",
   "pygments_lexer": "ipython3",
   "version": "3.10.9"
  }
 },
 "nbformat": 4,
 "nbformat_minor": 4
}
