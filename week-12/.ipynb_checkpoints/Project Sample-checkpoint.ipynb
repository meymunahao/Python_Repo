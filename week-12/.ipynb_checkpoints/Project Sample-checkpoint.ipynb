{
 "cells": [
  {
   "cell_type": "code",
   "execution_count": null,
   "id": "969ed6b0",
   "metadata": {},
   "outputs": [],
   "source": [
    "# importing pandas package\n",
    "import pandas as pd\n",
    " \n",
    "# making data frame from csv file\n",
    "data = pd.read_csv(\"sis.csv\")\n",
    "\n",
    "# select two columns\n",
    "data[['Name', 'Age']]"
   ]
  },
  {
   "cell_type": "code",
   "execution_count": null,
   "id": "d1bc9ea7",
   "metadata": {},
   "outputs": [],
   "source": [
    "import pandas as pd\n",
    "\n",
    "data_file = ['sis.csv']\n",
    "\n",
    "data = pd.read_csv(data_file)\n",
    "\n",
    "for i in data_file:\n",
    "\n",
    "    print(data[i][2])"
   ]
  },
  {
   "cell_type": "code",
   "execution_count": null,
   "id": "38f113e5",
   "metadata": {},
   "outputs": [],
   "source": [
    "    # importing pandas as pd\n",
    "import pandas as pd\n",
    "   \n",
    "# dictionary of lists\n",
    "data = {'name':[\"Bello\", \"Kamara\", \"Ugochi\", \"David\"],\n",
    "        'degree': [\"MBA\", \"BCA\", \"M.Tech\", \"MBA\"],\n",
    "        'score':[90, 40, 80, 98]}\n",
    "  \n",
    "# creating a dataframe from a dictionary \n",
    "df = pd.DataFrame(data)\n",
    "\n",
    "# creating a list of dataframe columns\n",
    "columns = dict(df)\n",
    " \n",
    "    for i in columns:\n",
    "  # printing the third element of the column\n",
    "        print (df[i][2])"
   ]
  },
  {
   "cell_type": "code",
   "execution_count": null,
   "id": "b330d4a4",
   "metadata": {},
   "outputs": [],
   "source": [
    "#COUPE DE ESCRIVA 2023: FOOTBALL PICKS\n",
    "\n",
    "print('Welcome to the COUPE DE ESCRIVA 2023: FOOTBALL PICKS \\n')\n",
    "\n",
    "captain = {'Madiba: ': 'Chubby Obiora-Okafo', 'Blue-Jays: ': 'Christopher Uweh',\n",
    "           'Cirok: ': 'Alexander', 'TSG Walkers: ': 'Ikechukwu'}\n",
    "\n",
    "goalkeepers = {'Madiba: ': 'Chubby Obiora-Okafo',\n",
    "               'Blue- Jays: ': 'Oladimeji Abaniwonda/Jeffrey Awagu',\n",
    "               'Cirok: ': 'Timileyin Pearse/Izuako Jeremy',\n",
    "               'TSG Walkers: ': 'Ayomide Ojikutu'}\n",
    "\n",
    "for pick in captain:\n",
    "    print(pick, captain[pick])\n",
    "    \n",
    "print(\"\\n\")\n",
    "\n",
    "for pick in goalkeepers:\n",
    "    print(pick, goalkeepers[pick])"
   ]
  },
  {
   "cell_type": "code",
   "execution_count": null,
   "id": "ad8c8a7b",
   "metadata": {},
   "outputs": [],
   "source": [
    "# Project I\n",
    "# To generate an algorithm and python program to represent data in a tabular form. \n",
    "\n",
    "girls_name = ['Samantha','Jada','Jane','Claire','Elizabeth','Mary','Susan','Waje','Taibat','Lilian']\n",
    "\n",
    "girls_age = [17,16,17,18,16,18,17,20,19,17]\n",
    "\n",
    "girls_height = [5.5,6.0,5.4,5.9,5.6,5.5,6.1,6.0,5.7,5.5]\n",
    "\n",
    "girls_score = [80,85,70,60,76,66,87,95,50,49]\n",
    "\n",
    "boys_name = ['Charles','Jude','James','kelvin','Biodun','Wale','Kunle','Matthew','Tom','Kayode']\n",
    "\n",
    "boys_age = [19,16,18,17,20,19,16,18,17,19]\n",
    "\n",
    "boys_height = [5.7,5.9,5.8,6.1,5.9,5.5,6.1,5.4,5.8,5.7]\n",
    "\n",
    "boys_score = [74,87,75,68,66,78,87,98,54,60]\n",
    "\n",
    "print('Name  Age  Height  Score')\n",
    "\n",
    "for i in range(len(girls_name)):\n",
    "    print(girls_name[i],girls_age[i],girls_height[i],girls_score[i])\n",
    "for i in range(len(boys_name)):\n",
    "    print(boys_name[i],boys_age[i],boys_height[i],boys_score[i])"
   ]
  },
  {
   "cell_type": "code",
   "execution_count": null,
   "id": "87541f25",
   "metadata": {},
   "outputs": [],
   "source": [
    "#Class Project I\n",
    "#1.Top Apps in Google Play\n",
    "#Display the first 7 rows of each dataset\n",
    "\n",
    "# importing pandas package\n",
    "import pandas as pd\n",
    " \n",
    "# making data frame from csv file\n",
    "data = pd.read_csv(\"Top-Apps-in-Google-Play.csv\")\n",
    "\n",
    "df=data.head(7)\n",
    "\n",
    "# print excel\n",
    "df"
   ]
  },
  {
   "cell_type": "code",
   "execution_count": null,
   "id": "838a2ee9",
   "metadata": {},
   "outputs": [],
   "source": [
    "#Class Project I\n",
    "#1.Top Apps in Google Play\n",
    "#Select the first 3 colums of each dataset\n",
    "\n",
    "# importing pandas package\n",
    "import pandas as pd\n",
    " \n",
    "# making data frame from csv file\n",
    "data = pd.read_csv(\"Top-Apps-in-Google-Play.csv\")\n",
    "\n",
    "# select three columns\n",
    "df[['App Name', 'App Id', 'Category']]"
   ]
  },
  {
   "cell_type": "code",
   "execution_count": null,
   "id": "e2536abf",
   "metadata": {},
   "outputs": [],
   "source": [
    "#Class Project I\n",
    "#1.Top Apps in Google Play\n",
    "#Display only one row and header of each dataset\n",
    "\n",
    "# importing pandas package\n",
    "import pandas as pd\n",
    " \n",
    "# making data frame from csv file\n",
    "data = pd.read_csv(\"Top-Apps-in-Google-Play.csv\")\n",
    "\n",
    "df=data.head(1)\n",
    "\n",
    "# print excel\n",
    "df\n"
   ]
  },
  {
   "cell_type": "code",
   "execution_count": null,
   "id": "f1c251a9",
   "metadata": {},
   "outputs": [],
   "source": [
    "#writing a python program for compound Interest (CP)\n",
    "\n",
    "p = int(input(\"Enter principal amount :\"))\n",
    "t = int(input(\"Enter the time period :\"))\n",
    "n = int(input(\"Enter the number of years :\"))\n",
    "r = int(input(\"Enter the rate of interest :\"))\n",
    "a = r/n\n",
    "b = (1+a)**n*t\n",
    "CI = p*b\n",
    "print(f\"The compound interest is {CI}\")"
   ]
  }
 ],
 "metadata": {
  "kernelspec": {
   "display_name": "Python 3 (ipykernel)",
   "language": "python",
   "name": "python3"
  },
  "language_info": {
   "codemirror_mode": {
    "name": "ipython",
    "version": 3
   },
   "file_extension": ".py",
   "mimetype": "text/x-python",
   "name": "python",
   "nbconvert_exporter": "python",
   "pygments_lexer": "ipython3",
   "version": "3.10.9"
  }
 },
 "nbformat": 4,
 "nbformat_minor": 5
}
