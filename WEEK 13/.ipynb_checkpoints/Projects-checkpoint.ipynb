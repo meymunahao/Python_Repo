{
 "cells": [
  {
   "cell_type": "code",
   "execution_count": 25,
   "id": "fdea5048",
   "metadata": {},
   "outputs": [
    {
     "name": "stdout",
     "output_type": "stream",
     "text": [
      "Welcome to Student Management Information System(SMIS)\n",
      "\n",
      "What is your name?: Meymunah Olajobi\n",
      "What is your matric number?: 21120613033\n",
      "What department are you in? Computer Science\n",
      "What level are you in? 100\n",
      "Do you want to enter more inputs? (Y/N): Y\n",
      "What is your name?: Samuel Ajayi\n",
      "What is your matric number?: 22120613033\n",
      "What department are you in? Economics\n",
      "What level are you in? 200\n",
      "Do you want to enter more inputs? (Y/N): N\n",
      "               Name Matric. Number        Department Level\n",
      "0  Meymunah Olajobi    21120613033  Computer Science   100\n",
      "1      Samuel Ajayi    22120613033         Economics   200\n",
      "\n",
      "The file 'PAU SMIS' has been created\n"
     ]
    }
   ],
   "source": [
    "# Question 1\n",
    "# This program inputs personal details of students from the keyboard, \n",
    "# displays these details in a DataFrame and saves in an excel file.\n",
    "\n",
    "print('Welcome to Student Management Information System(SMIS)\\n')    \n",
    "\n",
    "import pandas as pd\n",
    "\n",
    "inputs = []\n",
    "\n",
    "while True:\n",
    "    name = input(\"What is your name?: \")\n",
    "    m_no = input(\"What is your matric number?: \")\n",
    "    dept = input('What department are you in? ')\n",
    "    lvl = input('What level are you in? ')\n",
    "    inputs.append((name, m_no, dept, lvl))\n",
    "    \n",
    "    choice = input(\"Do you want to enter more inputs? (Y/N): \")\n",
    "    if choice.lower() != 'y':\n",
    "        break\n",
    "\n",
    "# Create a pandas DataFrame from the inputs\n",
    "df = pd.DataFrame(inputs, columns=['Name', 'Matric. Number', 'Department', 'Level'])\n",
    "print(df)\n",
    "\n",
    "df.to_csv('PAU SMIS.csv', index=False)\n",
    "print(\"\\nThe file 'PAU SMIS' has been created\")"
   ]
  },
  {
   "cell_type": "code",
   "execution_count": 21,
   "id": "f9d568f9",
   "metadata": {},
   "outputs": [
    {
     "name": "stdout",
     "output_type": "stream",
     "text": [
      "    Company  Date founded  Company's assets  Company's liability  \\\n",
      "0     Enron          1987           1000000               200000   \n",
      "1  Anderson          1936           1500000               500000   \n",
      "2  GK Jones          2001           3000000              1500000   \n",
      "3      Mica          1996            250000                50000   \n",
      "4      Dune          2008            800000               300000   \n",
      "\n",
      "   Company's percentage leverages  \n",
      "0                       80.000000  \n",
      "1                       66.666667  \n",
      "2                       50.000000  \n",
      "3                       80.000000  \n",
      "4                       62.500000  \n",
      "\n",
      "The file 'Companies Info' has been created\n"
     ]
    }
   ],
   "source": [
    "# Question 2\n",
    "# \n",
    "\n",
    "import pandas as pd\n",
    "   \n",
    "class Corporations():   \n",
    "    def result_a(self, assets, liabilities):\n",
    "        result = ((assets - liabilities) / assets) * 100\n",
    "        return result\n",
    "    \n",
    "    def result_b(self, assets, liabilities):\n",
    "        result = ((assets - liabilities) / assets) * 100\n",
    "        return result\n",
    "    \n",
    "    def result_c(self, assets, liabilities):\n",
    "        result = ((assets - liabilities) / assets) * 100\n",
    "        return result\n",
    "    \n",
    "    def result_d(self, assets, liabilities):\n",
    "        result = ((assets - liabilities) / assets) * 100\n",
    "        return result\n",
    "    \n",
    "    def result_e(self, assets, liabilities):\n",
    "        result = ((assets - liabilities) / assets) * 100\n",
    "        return result\n",
    "    \n",
    "c= Corporations()\n",
    "\n",
    "data = {\"Company\":['Enron', 'Anderson', 'GK Jones', 'Mica', 'Dune'],\n",
    "        \"Date founded\": [1987, 1936, 2001, 1996, 2008],\n",
    "        \"Company's assets\": [1000000, 1500000, 3000000, 250000, 800000],\n",
    "        \"Company's liability\": [200000, 500000, 1500000, 50000, 300000],\n",
    "        \"Company's percentage leverages\": [ c.result_a(1000000, 200000), c.result_b(1500000, 500000), c.result_c(3000000, 1500000), c.result_d(250000, 50000), c.result_e(800000, 300000)],\n",
    "}\n",
    "        \n",
    "\n",
    "df = pd.DataFrame(data)\n",
    "print(df)\n",
    "\n",
    "df.to_csv('Companies Info.csv')\n",
    "\n",
    "print(\"\\nThe file 'Companies Info' has been created\")\n"
   ]
  }
 ],
 "metadata": {
  "kernelspec": {
   "display_name": "Python 3 (ipykernel)",
   "language": "python",
   "name": "python3"
  },
  "language_info": {
   "codemirror_mode": {
    "name": "ipython",
    "version": 3
   },
   "file_extension": ".py",
   "mimetype": "text/x-python",
   "name": "python",
   "nbconvert_exporter": "python",
   "pygments_lexer": "ipython3",
   "version": "3.10.9"
  }
 },
 "nbformat": 4,
 "nbformat_minor": 5
}
