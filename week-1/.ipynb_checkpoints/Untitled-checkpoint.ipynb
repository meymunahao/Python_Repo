{
 "cells": [
  {
   "cell_type": "code",
   "execution_count": 5,
   "id": "2f81f9e4",
   "metadata": {},
   "outputs": [
    {
     "name": "stdout",
     "output_type": "stream",
     "text": [
      "Enter principal amount :1000\n",
      "Enter the time :2\n",
      "Enter the rate of interest2\n",
      "The simple interest is 1040.0\n"
     ]
    }
   ],
   "source": [
    "#writing a python program for simple Interest (SI)\n",
    "\n",
    "p = int(input(\"Enter principal amount :\"))\n",
    "t = int(input(\"Enter the time :\"))\n",
    "r = int(input(\"Enter the rate of interest\"))\n",
    "a = r/100\n",
    "b = a*t\n",
    "SI = p*(1+b)\n",
    "print(f\"The simple interest is {SI}\")"
   ]
  },
  {
   "cell_type": "code",
   "execution_count": 7,
   "id": "d36972cc",
   "metadata": {},
   "outputs": [
    {
     "name": "stdout",
     "output_type": "stream",
     "text": [
      "Enter principal amount :1000\n",
      "Enter the time period :2\n",
      "Enter the number of years :2\n",
      "Enter the rate of interest :2\n",
      "The compound interest is 8000.0\n"
     ]
    }
   ],
   "source": [
    "#writing a python program for compound Interest (CP)\n",
    "\n",
    "p = int(input(\"Enter principal amount :\"))\n",
    "t = int(input(\"Enter the time period :\"))\n",
    "n = int(input(\"Enter the number of years :\"))\n",
    "r = int(input(\"Enter the rate of interest :\"))\n",
    "a = r/n\n",
    "b = (1+a)**n*t\n",
    "CI = p*b\n",
    "print(f\"The compound interest is {CI}\")"
   ]
  },
  {
   "cell_type": "code",
   "execution_count": 8,
   "id": "9e55bcce",
   "metadata": {},
   "outputs": [
    {
     "name": "stdout",
     "output_type": "stream",
     "text": [
      "Enter principal amount :1000\n",
      "Enter the time period :2\n",
      "Enter the number of years :2\n",
      "Enter the rate of interest2\n",
      "Enter the amount for PMT2000\n",
      "The annuity plan is 14000.0\n"
     ]
    }
   ],
   "source": [
    "#writing a python program for Annuity Plan (AP)\n",
    "\n",
    "p = int(input(\"Enter principal amount :\"))\n",
    "t = int(input(\"Enter the time period :\"))\n",
    "n = int(input(\"Enter the number of years :\"))\n",
    "r = int(input(\"Enter the rate of interest\"))\n",
    "pmt = int(input(\"Enter the amount for PMT\"))\n",
    "a = r/n \n",
    "b = (1+a)**n*t\n",
    "c = b-1\n",
    "d = c/a\n",
    "AP = pmt*d\n",
    "print(f\"The annuity plan is {AP}\")"
   ]
  }
 ],
 "metadata": {
  "kernelspec": {
   "display_name": "Python 3 (ipykernel)",
   "language": "python",
   "name": "python3"
  },
  "language_info": {
   "codemirror_mode": {
    "name": "ipython",
    "version": 3
   },
   "file_extension": ".py",
   "mimetype": "text/x-python",
   "name": "python",
   "nbconvert_exporter": "python",
   "pygments_lexer": "ipython3",
   "version": "3.10.9"
  }
 },
 "nbformat": 4,
 "nbformat_minor": 5
}
