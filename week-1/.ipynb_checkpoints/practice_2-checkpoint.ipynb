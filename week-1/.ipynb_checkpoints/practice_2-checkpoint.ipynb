{
 "cells": [
  {
   "cell_type": "code",
   "execution_count": 2,
   "id": "60a5d22c",
   "metadata": {},
   "outputs": [
    {
     "name": "stdout",
     "output_type": "stream",
     "text": [
      "Hi my name is Mathew. I am a String\n",
      "<class 'str'>\n",
      "Hi my name is Precious. I am also a String\n",
      "<class 'str'>\n"
     ]
    }
   ],
   "source": [
    "#Python program to print strings and type\n",
    "str1 = \"Hi my name is Mathew. I am a String\"\n",
    "str2 = 'Hi my name is Precious. I am also a String'\n",
    "\n",
    "#displaying string str1 and its type\n",
    "print(str1)\n",
    "print(type(str1))\n",
    "\n",
    "#displaying string str2 and its type\n",
    "print(str2)\n",
    "print(type(str2))"
   ]
  }
 ],
 "metadata": {
  "kernelspec": {
   "display_name": "Python 3 (ipykernel)",
   "language": "python",
   "name": "python3"
  },
  "language_info": {
   "codemirror_mode": {
    "name": "ipython",
    "version": 3
   },
   "file_extension": ".py",
   "mimetype": "text/x-python",
   "name": "python",
   "nbconvert_exporter": "python",
   "pygments_lexer": "ipython3",
   "version": "3.10.9"
  }
 },
 "nbformat": 4,
 "nbformat_minor": 5
}
