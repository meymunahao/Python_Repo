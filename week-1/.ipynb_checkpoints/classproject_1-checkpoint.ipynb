{
 "cells": [
  {
   "cell_type": "code",
   "execution_count": null,
   "id": "451dde1e",
   "metadata": {},
   "outputs": [],
   "source": [
    "#writing a python program for simple Interest (SI)\n",
    "\n",
    "p = int(input(\"Enter principal amount :\"))\n",
    "t = int(input(\"Enter the time :\"))\n",
    "r = int(input(\"Enter the rate of interest\"))\n",
    "a = r/100\n",
    "b = a*t\n",
    "SI = p*(1+b)\n",
    "print(f\"The simple interest is {SI}\")"
   ]
  },
  {
   "cell_type": "code",
   "execution_count": null,
   "id": "a8eb8ad4",
   "metadata": {},
   "outputs": [],
   "source": [
    "#writing a python program for compound Interest (CP)\n",
    "\n",
    "p = int(input(\"Enter principal amount :\"))\n",
    "t = int(input(\"Enter the time period :\"))\n",
    "n = int(input(\"Enter the number of years :\"))\n",
    "r = int(input(\"Enter the rate of interest :\"))\n",
    "a = r/n\n",
    "b = (1+a)**n*t\n",
    "CI = p*b\n",
    "print(f\"The compound interest is {CI}\")"
   ]
  },
  {
   "cell_type": "code",
   "execution_count": null,
   "id": "c3c0930d",
   "metadata": {},
   "outputs": [],
   "source": [
    "#writing a python program for Annuity Plan (AP)\n",
    "\n",
    "p = int(input(\"Enter principal amount :\"))\n",
    "t = int(input(\"Enter the time period :\"))\n",
    "n = int(input(\"Enter the number of years :\"))\n",
    "r = int(input(\"Enter the rate of interest\"))\n",
    "pmt = int(input(\"Enter the amount for PMT\"))\n",
    "a = r/n \n",
    "b = (1+a)**n*t\n",
    "c = b-1\n",
    "d = c/a\n",
    "AP = pmt*d\n",
    "print(f\"The annuity plan is {AP}\")"
   ]
  }
 ],
 "metadata": {
  "kernelspec": {
   "display_name": "Python 3 (ipykernel)",
   "language": "python",
   "name": "python3"
  },
  "language_info": {
   "codemirror_mode": {
    "name": "ipython",
    "version": 3
   },
   "file_extension": ".py",
   "mimetype": "text/x-python",
   "name": "python",
   "nbconvert_exporter": "python",
   "pygments_lexer": "ipython3",
   "version": "3.10.9"
  }
 },
 "nbformat": 4,
 "nbformat_minor": 5
}
