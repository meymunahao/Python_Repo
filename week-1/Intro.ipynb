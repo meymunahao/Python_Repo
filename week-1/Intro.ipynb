{
 "cells": [
  {
   "cell_type": "code",
   "execution_count": 2,
   "id": "7e58591f",
   "metadata": {},
   "outputs": [
    {
     "name": "stdout",
     "output_type": "stream",
     "text": [
      "Hello Jay\n"
     ]
    }
   ],
   "source": [
    "print(\"Hello Jay\")"
   ]
  },
  {
   "cell_type": "code",
   "execution_count": 1,
   "id": "39dc5e18",
   "metadata": {},
   "outputs": [
    {
     "name": "stdout",
     "output_type": "stream",
     "text": [
      "what's your name Muna\n",
      "Hello Muna\n"
     ]
    }
   ],
   "source": [
    "person = input(\"what's your name \")\n",
    "print('Hello', person)"
   ]
  },
  {
   "cell_type": "code",
   "execution_count": 3,
   "id": "27247930",
   "metadata": {},
   "outputs": [
    {
     "name": "stdout",
     "output_type": "stream",
     "text": [
      "12\n"
     ]
    }
   ],
   "source": [
    "age = 12\n",
    "print(age)"
   ]
  },
  {
   "cell_type": "code",
   "execution_count": 4,
   "id": "66177954",
   "metadata": {},
   "outputs": [
    {
     "name": "stdout",
     "output_type": "stream",
     "text": [
      "42\n"
     ]
    }
   ],
   "source": [
    "x = 6\n",
    "y = x * 7\n",
    "print(y)"
   ]
  },
  {
   "cell_type": "code",
   "execution_count": 5,
   "id": "1ee8e14f",
   "metadata": {},
   "outputs": [
    {
     "name": "stdout",
     "output_type": "stream",
     "text": [
      "Adele Joe\n"
     ]
    }
   ],
   "source": [
    "name = 'Adele Joe'\n",
    "print (name)"
   ]
  },
  {
   "cell_type": "code",
   "execution_count": 6,
   "id": "ab716822",
   "metadata": {},
   "outputs": [
    {
     "data": {
      "text/plain": [
       "False"
      ]
     },
     "execution_count": 6,
     "metadata": {},
     "output_type": "execute_result"
    }
   ],
   "source": [
    "mango = 5\n",
    "apple = 3\n",
    "apple > mango"
   ]
  },
  {
   "cell_type": "code",
   "execution_count": 10,
   "id": "1d47505e",
   "metadata": {},
   "outputs": [
    {
     "data": {
      "text/plain": [
       "False"
      ]
     },
     "execution_count": 10,
     "metadata": {},
     "output_type": "execute_result"
    }
   ],
   "source": [
    "mango < apple"
   ]
  },
  {
   "cell_type": "code",
   "execution_count": 8,
   "id": "b53749bb",
   "metadata": {},
   "outputs": [
    {
     "data": {
      "text/plain": [
       "False"
      ]
     },
     "execution_count": 8,
     "metadata": {},
     "output_type": "execute_result"
    }
   ],
   "source": [
    "mango == apple"
   ]
  },
  {
   "cell_type": "code",
   "execution_count": 11,
   "id": "54c9f04f",
   "metadata": {},
   "outputs": [
    {
     "name": "stdout",
     "output_type": "stream",
     "text": [
      "Hello Guys\n",
      "How are you all?\n",
      "Welcome to Python Programming\n"
     ]
    }
   ],
   "source": [
    "#We are writing a simple program here\n",
    "#First print statement.\n",
    "#This is a multiple line comment.\n",
    "\n",
    "print(\"Hello Guys\")\n",
    "\n",
    "#Second print statement\n",
    "print(\"How are you all?\")\n",
    "\n",
    "#Third print statement\n",
    "print(\"Welcome to Python Programming\")\n"
   ]
  },
  {
   "cell_type": "code",
   "execution_count": 12,
   "id": "69c25081",
   "metadata": {},
   "outputs": [
    {
     "name": "stdout",
     "output_type": "stream",
     "text": [
      "Three digit number\n"
     ]
    }
   ],
   "source": [
    "num = 100\n",
    "\n",
    "if 9 < num < 99:\n",
    "        print(\"Two digit number\")\n",
    "elif 99 < num < 999:\n",
    "        print(\"Three digit number\")\n",
    "elif 999 < num < 9999:\n",
    "        print(\"Four digit number\")\n",
    "else:print(\"number is <= 9 or >=9999\")"
   ]
  },
  {
   "cell_type": "code",
   "execution_count": null,
   "id": "a91f435d",
   "metadata": {},
   "outputs": [],
   "source": [
    "message = \"Welcome to\"\n",
    "course_code = \"CSC 102\"\n",
    "course_title = \"Introduction to Problem solving\"\n",
    "\n",
    "concat = message +' '+ course_code+' '+course_title\n",
    "\n",
    "print(concat)"
   ]
  }
 ],
 "metadata": {
  "kernelspec": {
   "display_name": "Python 3 (ipykernel)",
   "language": "python",
   "name": "python3"
  },
  "language_info": {
   "codemirror_mode": {
    "name": "ipython",
    "version": 3
   },
   "file_extension": ".py",
   "mimetype": "text/x-python",
   "name": "python",
   "nbconvert_exporter": "python",
   "pygments_lexer": "ipython3",
   "version": "3.10.9"
  }
 },
 "nbformat": 4,
 "nbformat_minor": 5
}
