{
 "cells": [
  {
   "cell_type": "code",
   "execution_count": 3,
   "id": "9a82d247",
   "metadata": {},
   "outputs": [
    {
     "name": "stdout",
     "output_type": "stream",
     "text": [
      "Enter the value for principal P: 1000\n",
      "Enter the value for rate R: 2\n",
      "Enter the value for time T: 5\n",
      "The Simple Interest is 1100.0: \n"
     ]
    }
   ],
   "source": [
    "a = int(input('Enter the value for principal P: '))\n",
    "b = int(input('Enter the value for rate R: '))\n",
    "c = int(input('Enter the value for time T: '))\n",
    "\n",
    "d = b/100\n",
    "e = d * c\n",
    "f = 1 + e\n",
    "SI = a * f\n",
    "\n",
    "print(f'The Simple Interest is {SI} ')"
   ]
  },
  {
   "cell_type": "code",
   "execution_count": null,
   "id": "18792ecd",
   "metadata": {},
   "outputs": [],
   "source": [
    "a = int(input('Enter the value for principal P: '))\n",
    "b = int(input('Enter the value for rate R: '))\n",
    "c = int(input('Enter the value for time T: '))\n",
    "d = int(input('Enter the value for number of years n: '))\n",
    "\n",
    "e = "
   ]
  },
  {
   "cell_type": "code",
   "execution_count": 4,
   "id": "71773796",
   "metadata": {},
   "outputs": [
    {
     "name": "stdout",
     "output_type": "stream",
     "text": [
      "m,y, ,n,a,m,e, ,i,s, ,x,"
     ]
    }
   ],
   "source": [
    "string = 'my name is x'\n",
    "for i in string:\n",
    "    print(i, end=',')"
   ]
  },
  {
   "cell_type": "code",
   "execution_count": 5,
   "id": "8e87c043",
   "metadata": {},
   "outputs": [
    {
     "name": "stdout",
     "output_type": "stream",
     "text": [
      "0\n",
      "1\n",
      "2\n",
      "3\n"
     ]
    }
   ],
   "source": [
    "a = [0, 1, 2, 3]\n",
    "for a[0] in a:\n",
    "    print(a[0])"
   ]
  },
  {
   "cell_type": "code",
   "execution_count": 10,
   "id": "070d90a2",
   "metadata": {},
   "outputs": [
    {
     "name": "stdout",
     "output_type": "stream",
     "text": [
      "What would you like to know about Munah 'Personality, Temperance, Friends'? Temperance\n"
     ]
    },
    {
     "ename": "NameError",
     "evalue": "name 'excited' is not defined",
     "output_type": "error",
     "traceback": [
      "\u001b[1;31m---------------------------------------------------------------------------\u001b[0m",
      "\u001b[1;31mNameError\u001b[0m                                 Traceback (most recent call last)",
      "Cell \u001b[1;32mIn[10], line 25\u001b[0m\n\u001b[0;32m     22\u001b[0m     m\u001b[38;5;241m.\u001b[39mpersonality(care, love)\n\u001b[0;32m     24\u001b[0m \u001b[38;5;28;01melif\u001b[39;00m question \u001b[38;5;241m==\u001b[39m \u001b[38;5;124m'\u001b[39m\u001b[38;5;124mTemperance\u001b[39m\u001b[38;5;124m'\u001b[39m:\n\u001b[1;32m---> 25\u001b[0m     m\u001b[38;5;241m.\u001b[39mtemperance(\u001b[43mexcited\u001b[49m, angry)\n\u001b[0;32m     27\u001b[0m \u001b[38;5;28;01melif\u001b[39;00m question \u001b[38;5;241m==\u001b[39m \u001b[38;5;124m'\u001b[39m\u001b[38;5;124mFriends\u001b[39m\u001b[38;5;124m'\u001b[39m:\n\u001b[0;32m     28\u001b[0m     m\u001b[38;5;241m.\u001b[39mfriends(DrBrainy, Rummy)\n",
      "\u001b[1;31mNameError\u001b[0m: name 'excited' is not defined"
     ]
    }
   ],
   "source": [
    "class Munah():\n",
    "    def personality(self, care, love):\n",
    "        self.care =  care\n",
    "        self.love = love\n",
    "        print(f\"Munah's personality is: {self.care and self.love}\" )\n",
    "        \n",
    "    def temperance(self, excited, angry):\n",
    "        self.excited = excited\n",
    "        self.angry = angry\n",
    "        print(f\"Munah's temperance is: {self.excited and self.angry}\" )\n",
    "        \n",
    "    def friends(self, DrBrainy, Rummy):\n",
    "        self.DrBrainy = DrBrainy\n",
    "        self.Rummy = Rummy\n",
    "        print(f\"Munah's friends are: {self.DrBrainy and self.Rummy}\" )\n",
    "        \n",
    "question = input(\"What would you like to know about Munah 'Personality, Temperance, Friends'? \")\n",
    "\n",
    "m = Munah()\n",
    "\n",
    "if question == 'Personality':\n",
    "    m.personality(care, love)\n",
    "    \n",
    "elif question == 'Temperance':\n",
    "    m.temperance(excited, angry)\n",
    "    \n",
    "elif question == 'Friends':\n",
    "    m.friends(DrBrainy, Rummy)\n",
    "    \n",
    "else:\n",
    "    print('Invalid input, kindly check the spelling for any error')\n",
    "        "
   ]
  },
  {
   "cell_type": "code",
   "execution_count": 14,
   "id": "14fe84e2",
   "metadata": {},
   "outputs": [
    {
     "name": "stdout",
     "output_type": "stream",
     "text": [
      "What would you like to know about Munah's Personality, Temperance, or Friends? Friends\n",
      "Enter DrBrainy's name: Talha\n",
      "Enter Rummy's name: Rumaysoh\n",
      "Munah's friends are: Talha and Rumaysoh\n"
     ]
    }
   ],
   "source": [
    "class Munah():\n",
    "    def personality(self, care, love):\n",
    "        self.care = care\n",
    "        self.love = love\n",
    "        print(f\"Munah's personality is: {self.care} care and {self.love} love\")\n",
    "\n",
    "    def temperance(self, excited, angry):\n",
    "        self.excited = excited\n",
    "        self.angry = angry\n",
    "        print(f\"Munah's temperance is: {self.excited} excitement and {self.angry} anger\")\n",
    "\n",
    "    def friends(self, DrBrainy, Rummy):\n",
    "        self.DrBrainy = DrBrainy\n",
    "        self.Rummy = Rummy\n",
    "        print(f\"Munah's friends are: {self.DrBrainy} and {self.Rummy}\")\n",
    "\n",
    "question = input(\"What would you like to know about Munah's Personality, Temperance, or Friends? \")\n",
    "\n",
    "m = Munah()\n",
    "\n",
    "if question == 'Personality':\n",
    "    care = input(\"Enter the level of care: \")\n",
    "    love = input(\"Enter the level of love: \")\n",
    "    m.personality(care, love)\n",
    "\n",
    "elif question == 'Temperance':\n",
    "    excited = input(\"Enter the level of excitement: \")\n",
    "    angry = input(\"Enter the level of anger: \")\n",
    "    m.temperance(excited, angry)\n",
    "\n",
    "elif question == 'Friends':\n",
    "    DrBrainy = input(\"Enter DrBrainy's name: \")\n",
    "    Rummy = input(\"Enter Rummy's name: \")\n",
    "    m.friends(DrBrainy, Rummy)\n",
    "\n",
    "else:\n",
    "    print('Invalid input, kindly check the spelling for any errors')\n"
   ]
  },
  {
   "cell_type": "code",
   "execution_count": 4,
   "id": "061f1734",
   "metadata": {},
   "outputs": [
    {
     "data": {
      "image/png": "[encoded data removed]",
      "text/plain": [
       "<Figure size 640x480 with 1 Axes>"
      ]
     },
     "metadata": {},
     "output_type": "display_data"
    }
   ],
   "source": [
    "import numpy as np\n",
    "import matplotlib.pyplot as plt\n",
    "\n",
    "# Constants\n",
    "k = -0.1  # Example value for the constant of proportionality\n",
    "ρ = 1000  # Example value for the density of water\n",
    "r0 = 0.01  # Example value for the initial radius at t = 0\n",
    "\n",
    "# Time range\n",
    "t = np.linspace(0, 10, 100)  # Example range from 0 to 10 seconds\n",
    "\n",
    "# Calculate velocity v(t)\n",
    "v = k * ρ * (4 * np.pi/3) * (r0**3 - t**3)\n",
    "\n",
    "# Plot the graph\n",
    "plt.plot(t, v)\n",
    "plt.xlabel('Time (s)')\n",
    "plt.ylabel('Velocity (m/s)')\n",
    "plt.title('Velocity of Raindrop as a Function of Time')\n",
    "plt.grid(True)\n",
    "plt.show()\n"
   ]
  },
  {
   "cell_type": "code",
   "execution_count": null,
   "id": "28580f9c",
   "metadata": {},
   "outputs": [],
   "source": [
    "\n"
   ]
  }
 ],
 "metadata": {
  "kernelspec": {
   "display_name": "Python 3 (ipykernel)",
   "language": "python",
   "name": "python3"
  },
  "language_info": {
   "codemirror_mode": {
    "name": "ipython",
    "version": 3
   },
   "file_extension": ".py",
   "mimetype": "text/x-python",
   "name": "python",
   "nbconvert_exporter": "python",
   "pygments_lexer": "ipython3",
   "version": "3.10.9"
  }
 },
 "nbformat": 4,
 "nbformat_minor": 5
}
