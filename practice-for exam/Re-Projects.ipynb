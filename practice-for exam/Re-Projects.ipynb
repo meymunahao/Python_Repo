{
 "cells": [
  {
   "cell_type": "code",
   "execution_count": 3,
   "id": "81580a0c",
   "metadata": {},
   "outputs": [
    {
     "name": "stdout",
     "output_type": "stream",
     "text": [
      "Enter the value for principal P: 1000\n",
      "Enter the value for rate R: 2\n",
      "Enter the value for time T: 5\n",
      "The Simple Interest is 1100.0: \n"
     ]
    }
   ],
   "source": [
    "a = int(input('Enter the value for principal P: '))\n",
    "b = int(input('Enter the value for rate R: '))\n",
    "c = int(input('Enter the value for time T: '))\n",
    "\n",
    "d = b/100\n",
    "e = d * c\n",
    "f = 1 + e\n",
    "SI = a * f\n",
    "\n",
    "print(f'The Simple Interest is {SI} ')"
   ]
  },
  {
   "cell_type": "code",
   "execution_count": null,
   "id": "2b59d18d",
   "metadata": {},
   "outputs": [],
   "source": []
  }
 ],
 "metadata": {
  "kernelspec": {
   "display_name": "Python 3 (ipykernel)",
   "language": "python",
   "name": "python3"
  },
  "language_info": {
   "codemirror_mode": {
    "name": "ipython",
    "version": 3
   },
   "file_extension": ".py",
   "mimetype": "text/x-python",
   "name": "python",
   "nbconvert_exporter": "python",
   "pygments_lexer": "ipython3",
   "version": "3.10.9"
  }
 },
 "nbformat": 4,
 "nbformat_minor": 5
}
