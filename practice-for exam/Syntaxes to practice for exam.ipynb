{
 "cells": [
  {
   "cell_type": "code",
   "execution_count": null,
   "id": "1366a617",
   "metadata": {},
   "outputs": [],
   "source": [
    "#To write a csv file\n",
    "\n",
    "import csv\n",
    "\n",
    "with open('file_name.csv', 'w') as csv_file:\n",
    "    csv_writer = csv.writer(csv_file)\n",
    "    \n",
    "#To write a csv file\n",
    "\n",
    "with open('file_name', 'r') as csv_file:\n",
    "    csv_reader = csv.reader(csv_file)\n",
    "    \n",
    "#To skip the header(the title at the top of the csv)\n",
    "\n",
    "next(csv_reader/writer)\n",
    "    "
   ]
  }
 ],
 "metadata": {
  "kernelspec": {
   "display_name": "Python 3 (ipykernel)",
   "language": "python",
   "name": "python3"
  },
  "language_info": {
   "codemirror_mode": {
    "name": "ipython",
    "version": 3
   },
   "file_extension": ".py",
   "mimetype": "text/x-python",
   "name": "python",
   "nbconvert_exporter": "python",
   "pygments_lexer": "ipython3",
   "version": "3.10.9"
  }
 },
 "nbformat": 4,
 "nbformat_minor": 5
}
