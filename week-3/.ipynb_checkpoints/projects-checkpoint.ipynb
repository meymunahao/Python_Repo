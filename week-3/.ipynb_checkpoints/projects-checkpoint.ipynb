{
 "cells": [
  {
   "cell_type": "code",
   "execution_count": 13,
   "id": "7735c867",
   "metadata": {},
   "outputs": [
    {
     "name": "stdout",
     "output_type": "stream",
     "text": [
      "What is the first age? 80\n",
      "What is the second age? 35\n",
      "The first age after swapping is: 35\n",
      "The second age after swapping is: 80\n"
     ]
    }
   ],
   "source": [
    "#Python program that takes input two names and\n",
    "#their corresponding age and then swap their ages\n",
    "\n",
    "age1 = int(input('What is the first age? '))\n",
    "age2 = int(input('What is the second age? '))\n",
    "\n",
    "temp = age1\n",
    "age1 = age2\n",
    "age2 = temp\n",
    "\n",
    "print(f'The first age after swapping is: {age1}')\n",
    "print(f'The second age after swapping is: {age2}')"
   ]
  },
  {
   "cell_type": "code",
   "execution_count": 1,
   "id": "89de9272",
   "metadata": {},
   "outputs": [
    {
     "name": "stdout",
     "output_type": "stream",
     "text": [
      "Enter the value for A\n",
      "9\n",
      "Enter the value for B\n",
      "8\n",
      "Enter the value for C\n",
      "7\n",
      "Enter the value for D\n",
      "5\n",
      "the first root = (4.5+4.137676929192318j)\n",
      "the second root = (-9.833333333333332-4.137676929192317j)\n",
      "the third root = (-2.666666666666667-4.440892098500626e-16j)\n"
     ]
    }
   ],
   "source": [
    "#Python program to calculate for the roots of a Cubic Equation\n",
    "\n",
    "print('Enter the value for A')\n",
    "A = float(input())\n",
    "print('Enter the value for B')\n",
    "B = float(input())\n",
    "print('Enter the value for C')\n",
    "C = float(input())\n",
    "print('Enter the value for D')\n",
    "D = float(input())\n",
    "l = B**2\n",
    "m = B**3\n",
    "\n",
    "Q = ((3*C) - l)/9\n",
    "R = ((9*B*C) - (27*D) - (2*m))/54\n",
    "j = R**2\n",
    "k = j**(1/2)\n",
    "S = (R + (Q**3) + k)**(1/3)\n",
    "T = (R - (Q**3) + k)**(1/3)\n",
    "     \n",
    "i = (-1)**(1/2)\n",
    "\n",
    "r1 = S + T - (1/3 * B)\n",
    "r2 = (-1/2)*(S + T) - (1/3 * B) + ((1/2*i)*(3**(1/2))*(S - T))\n",
    "r3 = (-1/2)*(S + T) - (1/3 * B) - ((1/2*i)*(3**(1/2))*(S - T))\n",
    "     \n",
    "print(f'the first root = {r1}')\n",
    "print(f'the second root = {r2}')\n",
    "print(f'the third root = {r3}')"
   ]
  },
  {
   "cell_type": "code",
   "execution_count": 3,
   "id": "161f7fcd",
   "metadata": {},
   "outputs": [
    {
     "name": "stdout",
     "output_type": "stream",
     "text": [
      "Enter value for A\n",
      "9\n",
      "Enter value for B\n",
      "4\n",
      "Enter value for C\n",
      "3\n",
      "The first root is (0.22222222222222227+0.5328701692569688j)\n",
      "The second root is (0.2222222222222222-0.5328701692569688j)\n"
     ]
    }
   ],
   "source": [
    "#Python program to calculate for the roots of a Quadratic Equation\n",
    "\n",
    "print('Enter value for A')\n",
    "A = float(input())\n",
    "print('Enter value for B')\n",
    "B = float(input())\n",
    "print('Enter value for C')\n",
    "C = float(input())\n",
    "\n",
    "r1 = ((B + ((B**2) - (4*A*C))**(1/2)))/(2*A)\n",
    "r2 = ((B - ((B**2) - (4*A*C))**(1/2)))/(2*A)\n",
    "      \n",
    "print(f'The first root is {r1}')\n",
    "print(f'The second root is {r2}')"
   ]
  },
  {
   "cell_type": "code",
   "execution_count": null,
   "id": "6e726669",
   "metadata": {},
   "outputs": [],
   "source": []
  }
 ],
 "metadata": {
  "kernelspec": {
   "display_name": "Python 3 (ipykernel)",
   "language": "python",
   "name": "python3"
  },
  "language_info": {
   "codemirror_mode": {
    "name": "ipython",
    "version": 3
   },
   "file_extension": ".py",
   "mimetype": "text/x-python",
   "name": "python",
   "nbconvert_exporter": "python",
   "pygments_lexer": "ipython3",
   "version": "3.10.9"
  }
 },
 "nbformat": 4,
 "nbformat_minor": 5
}
