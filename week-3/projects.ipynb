{
 "cells": [
  {
   "cell_type": "code",
   "execution_count": null,
   "id": "89de9272",
   "metadata": {},
   "outputs": [],
   "source": [
    "#Python program to calculate for the roots of a Cubic Equation\n",
    "\n",
    "print('Enter the value for A')\n",
    "A = float(input())\n",
    "print('Enter the value for B')\n",
    "B = float(input())\n",
    "print('Enter the value for C')\n",
    "C = float(input())\n",
    "print('Enter the value for D')\n",
    "D = float(input())\n",
    "l = B**2\n",
    "m = B**3\n",
    "\n",
    "Q = ((3*C) - l)/9\n",
    "R = ((9*B*C) - (27*D) - (2*m))/54\n",
    "j = R**2\n",
    "k = j**(1/2)\n",
    "S = (R + (Q**3) + k)**(1/3)\n",
    "T = (R - (Q**3) + k)**(1/3)\n",
    "     \n",
    "i = (-1)**(1/2)\n",
    "\n",
    "r1 = S + T - (1/3 * B)\n",
    "r2 = (-1/2)*(S + T) - (1/3 * B) + ((1/2*i)*(3**(1/2))*(S - T))\n",
    "r3 = (-1/2)*(S + T) - (1/3 * B) - ((1/2*i)*(3**(1/2))*(S - T))\n",
    "     \n",
    "print(f'the first root = {r1}')\n",
    "print(f'the second root = {r2}')\n",
    "print(f'the third root = {r3}')"
   ]
  },
  {
   "cell_type": "code",
   "execution_count": null,
   "id": "161f7fcd",
   "metadata": {},
   "outputs": [],
   "source": [
    "#Python program to calculate for the roots of a Quadratic Equation\n",
    "\n",
    "print('Enter value for A')\n",
    "A = float(input())\n",
    "print('Enter value for B')\n",
    "B = float(input())\n",
    "print('Enter value for C')}\n",
    "C = float(input())\n",
    "\n",
    "r1 = ((B + ((B**2) - (4*A*C))**(1/2)))/(2*A)\n",
    "r2 = ((B - ((B**2) - (4*A*C))**(1/2)))/(2*A)\n",
    "      \n",
    "print(f'The first root is {r1}')\n",
    "print(f'The second root is {r2}')"
   ]
  }
 ],
 "metadata": {
  "kernelspec": {
   "display_name": "Python 3 (ipykernel)",
   "language": "python",
   "name": "python3"
  },
  "language_info": {
   "codemirror_mode": {
    "name": "ipython",
    "version": 3
   },
   "file_extension": ".py",
   "mimetype": "text/x-python",
   "name": "python",
   "nbconvert_exporter": "python",
   "pygments_lexer": "ipython3",
   "version": "3.10.9"
  }
 },
 "nbformat": 4,
 "nbformat_minor": 5
}
