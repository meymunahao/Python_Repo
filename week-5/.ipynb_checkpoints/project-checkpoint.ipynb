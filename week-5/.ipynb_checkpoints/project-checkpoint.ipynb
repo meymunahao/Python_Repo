{
 "cells": [
  {
   "cell_type": "code",
   "execution_count": 4,
   "id": "2a147ee7",
   "metadata": {},
   "outputs": [
    {
     "ename": "SyntaxError",
     "evalue": "':' expected after dictionary key (2706809710.py, line 5)",
     "output_type": "error",
     "traceback": [
      "\u001b[1;36m  Cell \u001b[1;32mIn[4], line 5\u001b[1;36m\u001b[0m\n\u001b[1;33m    N = {'Name: ':'Samantha', 'Jada', 'Jane', 'Claire', 'Elizabeth',\u001b[0m\n\u001b[1;37m                                   ^\u001b[0m\n\u001b[1;31mSyntaxError\u001b[0m\u001b[1;31m:\u001b[0m ':' expected after dictionary key\n"
     ]
    }
   ],
   "source": [
    "# To generate an algorithm and python program to represent\n",
    "# data in a tabular form. \n",
    "\n",
    "\n",
    "N = {'Name: ':'Samantha', 'Jada', 'Jane', 'Claire', 'Elizabeth',\n",
    "     'Mary' ,'Susan' , 'Waje' , 'Taibat', 'Lilian'}\n",
    "\n",
    "A = {'Age: ':'17', '16', '17', '18', '16', '18', '17', '20', \n",
    "     '19', '17'}\n",
    "\n",
    "H = {'Height: ':'5.5', '6.0', '5.4', '5.9' ,'5.6' ,'5.5' ,\n",
    "     '6.1' ,'6.0', '5.7', '5.5'}\n",
    "\n",
    "S = {'Score: ':'80', '85', '70', '60', '76', '66', '87',\n",
    "     '95', '50', '49'}\n",
    "\n",
    "for pick in N:\n",
    "    print(pick, Name[pick])\n",
    "    \n",
    "print(\"\\n\")\n",
    "\n",
    "for pick in A:\n",
    "    print(pick, Age[pick])\n",
    "    \n",
    "print(\"\\n\")\n",
    "\n",
    "for pick in H:\n",
    "    print(pick, Height[pick])\n",
    "    \n",
    "print(\"\\n\")\n",
    "\n",
    "for pick in S:\n",
    "    print(pick, Score[pick])"
   ]
  },
  {
   "cell_type": "code",
   "execution_count": null,
   "id": "6d886058",
   "metadata": {},
   "outputs": [],
   "source": []
  }
 ],
 "metadata": {
  "kernelspec": {
   "display_name": "Python 3 (ipykernel)",
   "language": "python",
   "name": "python3"
  },
  "language_info": {
   "codemirror_mode": {
    "name": "ipython",
    "version": 3
   },
   "file_extension": ".py",
   "mimetype": "text/x-python",
   "name": "python",
   "nbconvert_exporter": "python",
   "pygments_lexer": "ipython3",
   "version": "3.10.9"
  }
 },
 "nbformat": 4,
 "nbformat_minor": 5
}
