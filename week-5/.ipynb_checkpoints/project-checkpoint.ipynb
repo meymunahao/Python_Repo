{
 "cells": [
  {
   "cell_type": "code",
   "execution_count": 18,
   "id": "2a147ee7",
   "metadata": {},
   "outputs": [
    {
     "name": "stdout",
     "output_type": "stream",
     "text": [
      "Name  Age  Height  Score\n",
      "Samantha 17 5.5 80\n",
      "Jada 16 6.0 85\n",
      "Jane 17 5.4 70\n",
      "Claire 18 5.9 60\n",
      "Elizabeth 16 5.6 76\n",
      "Mary 18 5.5 66\n",
      "Susan 17 6.1 87\n",
      "Waje 20 6.0 95\n",
      "Taibat 19 5.7 50\n",
      "Lilian 17 5.5 49\n",
      "Charles 19 5.7 74\n",
      "Jude 16 5.9 87\n",
      "James 18 5.8 75\n",
      "kelvin 17 6.1 68\n",
      "Biodun 20 5.9 66\n",
      "Wale 19 5.5 78\n",
      "Kunle 16 6.1 87\n",
      "Matthew 18 5.4 98\n",
      "Tom 17 5.8 54\n",
      "Kayode 19 5.7 60\n"
     ]
    }
   ],
   "source": [
    "# Project I\n",
    "# To generate an algorithm and python program to represent data in a tabular form. \n",
    "\n",
    "girls_name = ['Samantha','Jada','Jane','Claire','Elizabeth','Mary','Susan','Waje','Taibat','Lilian']\n",
    "\n",
    "girls_age = [17,16,17,18,16,18,17,20,19,17]\n",
    "\n",
    "girls_height = [5.5,6.0,5.4,5.9,5.6,5.5,6.1,6.0,5.7,5.5]\n",
    "\n",
    "girls_score = [80,85,70,60,76,66,87,95,50,49]\n",
    "\n",
    "boys_name = ['Charles','Jude','James','kelvin','Biodun','Wale','Kunle','Matthew','Tom','Kayode']\n",
    "\n",
    "boys_age = [19,16,18,17,20,19,16,18,17,19]\n",
    "\n",
    "boys_height = [5.7,5.9,5.8,6.1,5.9,5.5,6.1,5.4,5.8,5.7]\n",
    "\n",
    "boys_score = [74,87,75,68,66,78,87,98,54,60]\n",
    "\n",
    "print('Name  Age  Height  Score')\n",
    "\n",
    "for i in range(len(girls_name)):\n",
    "    print(girls_name[i],girls_age[i],girls_height[i],girls_score[i])\n",
    "for i in range(len(boys_name)):\n",
    "    print(boys_name[i],boys_age[i],boys_height[i],boys_score[i])"
   ]
  },
  {
   "cell_type": "code",
   "execution_count": null,
   "id": "65ffb863",
   "metadata": {},
   "outputs": [],
   "source": [
    "#Project II\n",
    "\n",
    "print(\"Welcome to FinTech\")\n",
    "experience = int(input(\"How many years of experience do you have?\"))\n",
    "age = int(input(\"How old are you?\"))\n",
    "\n",
    "if experience>25 & age >= 55:\n",
    "    print(\"Your annual tax revenue(ATR) is 5,600,000\")\n",
    "    \n",
    "elif experience>20 & age >= 45:\n",
    "    print(\"Your annual tax revenue(ATR) is 4,480,000\")\n",
    "    \n",
    "elif experience>10 & age >= 35:\n",
    "    print(\"Your annual tax revenue(ATR) is 1,500,000\")\n",
    "    \n",
    "else:\n",
    "    print(\"Your annual tax revenue(ATR) is 550,000\")"
   ]
  },
  {
   "cell_type": "code",
   "execution_count": null,
   "id": "d8e0b146",
   "metadata": {},
   "outputs": [],
   "source": []
  }
 ],
 "metadata": {
  "kernelspec": {
   "display_name": "Python 3 (ipykernel)",
   "language": "python",
   "name": "python3"
  },
  "language_info": {
   "codemirror_mode": {
    "name": "ipython",
    "version": 3
   },
   "file_extension": ".py",
   "mimetype": "text/x-python",
   "name": "python",
   "nbconvert_exporter": "python",
   "pygments_lexer": "ipython3",
   "version": "3.10.9"
  }
 },
 "nbformat": 4,
 "nbformat_minor": 5
}
