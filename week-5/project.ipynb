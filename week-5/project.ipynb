{
 "cells": [
  {
   "cell_type": "code",
   "execution_count": 17,
   "id": "2a147ee7",
   "metadata": {},
   "outputs": [
    {
     "ename": "TypeError",
     "evalue": "list indices must be integers or slices, not str",
     "output_type": "error",
     "traceback": [
      "\u001b[1;31m---------------------------------------------------------------------------\u001b[0m",
      "\u001b[1;31mTypeError\u001b[0m                                 Traceback (most recent call last)",
      "Cell \u001b[1;32mIn[17], line 14\u001b[0m\n\u001b[0;32m     11\u001b[0m Girls_scores\u001b[38;5;241m=\u001b[39m [\u001b[38;5;241m80\u001b[39m, \u001b[38;5;241m85\u001b[39m, \u001b[38;5;241m70\u001b[39m, \u001b[38;5;241m60\u001b[39m, \u001b[38;5;241m76\u001b[39m, \u001b[38;5;241m66\u001b[39m, \u001b[38;5;241m87\u001b[39m, \u001b[38;5;241m95\u001b[39m, \u001b[38;5;241m50\u001b[39m, \u001b[38;5;241m49\u001b[39m]\n\u001b[0;32m     13\u001b[0m \u001b[38;5;28;01mfor\u001b[39;00m pick \u001b[38;5;129;01min\u001b[39;00m Girls_name:\n\u001b[1;32m---> 14\u001b[0m     \u001b[38;5;28mprint\u001b[39m(pick, \u001b[43mGirls_name\u001b[49m\u001b[43m[\u001b[49m\u001b[43mpick\u001b[49m\u001b[43m]\u001b[49m)\n\u001b[0;32m     16\u001b[0m \u001b[38;5;28mprint\u001b[39m(\u001b[38;5;124m\"\u001b[39m\u001b[38;5;130;01m\\n\u001b[39;00m\u001b[38;5;124m\"\u001b[39m)\n\u001b[0;32m     18\u001b[0m \u001b[38;5;28;01mfor\u001b[39;00m pick \u001b[38;5;129;01min\u001b[39;00m Girls_age:\n",
      "\u001b[1;31mTypeError\u001b[0m: list indices must be integers or slices, not str"
     ]
    }
   ],
   "source": [
    "# To generate an algorithm and python program to represent\n",
    "# data in a tabular form. \n",
    "\n",
    "Girls_name = ['Samantha', 'Jada', 'Jane', 'Claire', 'Elizabeth', 'Mary' ,'Susan' , 'Waje' , \n",
    "              'Taibat', 'Lilian']\n",
    "\n",
    "Girls_age = [17, 16, 17, 18, 16, 18, 17, 20, 19, 17]\n",
    "\n",
    "Girls_height= [5.5, 6.0, 5.4, 5.9, 5.6, 5.5, 6.1, 6.0, 5.7, 5.5]\n",
    "\n",
    "Girls_scores= [80, 85, 70, 60, 76, 66, 87, 95, 50, 49]\n",
    "\n",
    "for pick in Girls_name:\n",
    "    print(pick, Girls_name[pick])\n",
    "    \n",
    "print(\"\\n\")\n",
    "\n",
    "for pick in Girls_age:\n",
    "    print(pick, Girls_age[pick])\n",
    "    \n",
    "print(\"\\n\")\n",
    "\n",
    "for pick in Girls_height:\n",
    "    print(pick, Girls_height[pick])\n",
    "    \n",
    "print(\"\\n\")\n",
    "\n",
    "for pick in Girls_score:\n",
    "    print(pick,  Girls_score[pick])"
   ]
  },
  {
   "cell_type": "code",
   "execution_count": null,
   "id": "b31fa775",
   "metadata": {},
   "outputs": [],
   "source": []
  }
 ],
 "metadata": {
  "kernelspec": {
   "display_name": "Python 3 (ipykernel)",
   "language": "python",
   "name": "python3"
  },
  "language_info": {
   "codemirror_mode": {
    "name": "ipython",
    "version": 3
   },
   "file_extension": ".py",
   "mimetype": "text/x-python",
   "name": "python",
   "nbconvert_exporter": "python",
   "pygments_lexer": "ipython3",
   "version": "3.10.9"
  }
 },
 "nbformat": 4,
 "nbformat_minor": 5
}
